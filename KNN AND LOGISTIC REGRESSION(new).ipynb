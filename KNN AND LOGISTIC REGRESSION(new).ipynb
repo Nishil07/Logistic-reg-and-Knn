{
 "cells": [
  {
   "cell_type": "markdown",
   "metadata": {},
   "source": [
    "# LOGISTIC REGRESSION AND KNN"
   ]
  },
  {
   "cell_type": "markdown",
   "metadata": {},
   "source": [
    "IMPORTING THE LIBRARIES"
   ]
  },
  {
   "cell_type": "code",
   "execution_count": 1,
   "metadata": {},
   "outputs": [],
   "source": [
    "import numpy as np\n",
    "import matplotlib.pyplot as plt\n",
    "import pandas as pd"
   ]
  },
  {
   "cell_type": "markdown",
   "metadata": {},
   "source": [
    "IMPORTING DATASET"
   ]
  },
  {
   "cell_type": "code",
   "execution_count": 2,
   "metadata": {},
   "outputs": [],
   "source": [
    "dataset=pd.read_csv(\"C://Users//Nishil07//Documents//Prostate_Cancer2.csv\")\n",
    "x=dataset.iloc[:,2:-1].values\n",
    "y=dataset.iloc[:,1].values"
   ]
  },
  {
   "cell_type": "markdown",
   "metadata": {},
   "source": [
    "SPLITTING THE DATA INTO TRAIN AND TEST SETS RESPECTIVELY"
   ]
  },
  {
   "cell_type": "code",
   "execution_count": 3,
   "metadata": {},
   "outputs": [],
   "source": [
    "from sklearn.model_selection import train_test_split\n",
    "train_x,test_x,train_y,test_y=train_test_split(x,y,test_size=0.33,random_state=42)"
   ]
  },
  {
   "cell_type": "markdown",
   "metadata": {},
   "source": [
    "APLLYING FEATURE SCALING "
   ]
  },
  {
   "cell_type": "code",
   "execution_count": 4,
   "metadata": {},
   "outputs": [],
   "source": [
    "from sklearn.preprocessing import StandardScaler\n",
    "sc_x=StandardScaler()\n",
    "train_x=sc_x.fit_transform(train_x)\n",
    "test_x=sc_x.transform(test_x)"
   ]
  },
  {
   "cell_type": "markdown",
   "metadata": {},
   "source": [
    "APPLYING THE KNN ALGORITHM AND PREDICTING "
   ]
  },
  {
   "cell_type": "code",
   "execution_count": 5,
   "metadata": {},
   "outputs": [],
   "source": [
    "from sklearn.neighbors import KNeighborsClassifier\n",
    "clf_knn= KNeighborsClassifier(n_neighbors=5)\n",
    "clf_knn.fit(train_x,train_y)\n",
    "y_pred=clf_knn.predict(test_x)"
   ]
  },
  {
   "cell_type": "code",
   "execution_count": 8,
   "metadata": {},
   "outputs": [
    {
     "name": "stdout",
     "output_type": "stream",
     "text": [
      "[[ 4  4]\n",
      " [ 2 23]]\n",
      "              precision    recall  f1-score   support\n",
      "\n",
      "           B       0.67      0.50      0.57         8\n",
      "           M       0.85      0.92      0.88        25\n",
      "\n",
      "    accuracy                           0.82        33\n",
      "   macro avg       0.76      0.71      0.73        33\n",
      "weighted avg       0.81      0.82      0.81        33\n",
      "\n"
     ]
    }
   ],
   "source": [
    "from sklearn.metrics import confusion_matrix,classification_report\n",
    "cm=confusion_matrix(test_y,y_pred)\n",
    "print(cm)\n",
    "print(classification_report(test_y,y_pred))"
   ]
  },
  {
   "cell_type": "markdown",
   "metadata": {},
   "source": [
    "APPLYING THE LOGISTIC REGRESSION ALGORITHM AND PREDICTING"
   ]
  },
  {
   "cell_type": "code",
   "execution_count": 11,
   "metadata": {},
   "outputs": [],
   "source": [
    "from sklearn.linear_model import LogisticRegression\n",
    "clf_log= LogisticRegression(random_state=0)\n",
    "clf_log.fit(train_x,train_y)\n",
    "y_pred=clf_log.predict(test_x)"
   ]
  },
  {
   "cell_type": "code",
   "execution_count": 12,
   "metadata": {},
   "outputs": [
    {
     "name": "stdout",
     "output_type": "stream",
     "text": [
      "[[ 6  2]\n",
      " [ 3 22]]\n",
      "              precision    recall  f1-score   support\n",
      "\n",
      "           B       0.67      0.75      0.71         8\n",
      "           M       0.92      0.88      0.90        25\n",
      "\n",
      "    accuracy                           0.85        33\n",
      "   macro avg       0.79      0.81      0.80        33\n",
      "weighted avg       0.86      0.85      0.85        33\n",
      "\n"
     ]
    }
   ],
   "source": [
    "from sklearn.metrics import confusion_matrix,classification_report\n",
    "cm=confusion_matrix(test_y,y_pred)\n",
    "print(cm)\n",
    "print(classification_report(test_y,y_pred))"
   ]
  },
  {
   "cell_type": "markdown",
   "metadata": {},
   "source": [
    "COMMPARING THE SCORES AND SEE WHICH ALGORITHM FITS THE BEST FOR OUR DATASET"
   ]
  },
  {
   "cell_type": "code",
   "execution_count": 7,
   "metadata": {},
   "outputs": [],
   "source": [
    "#print(clf_knn.score(test_x,test_y))\n",
    "#print(clf_log.score(test_x,test_y))"
   ]
  },
  {
   "cell_type": "code",
   "execution_count": null,
   "metadata": {},
   "outputs": [],
   "source": []
  }
 ],
 "metadata": {
  "kernelspec": {
   "display_name": "Python 3",
   "language": "python",
   "name": "python3"
  },
  "language_info": {
   "codemirror_mode": {
    "name": "ipython",
    "version": 3
   },
   "file_extension": ".py",
   "mimetype": "text/x-python",
   "name": "python",
   "nbconvert_exporter": "python",
   "pygments_lexer": "ipython3",
   "version": "3.7.6"
  }
 },
 "nbformat": 4,
 "nbformat_minor": 4
}
